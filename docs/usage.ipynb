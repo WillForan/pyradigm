{
 "cells": [
  {
   "cell_type": "markdown",
   "metadata": {},
   "source": [
    "Table of Contents\n",
    "\n",
    "* <a href='#motivation'>Motivation</a>\n",
    "\n",
    "* <a href='#constructor'>Constructing a dataset</a>\n",
    "\n",
    "* <a href='#attributes'>Attributes</a>\n",
    "\n",
    "* <a href='#access'>Accessing samples</a>\n",
    "\n",
    "* <a href='#iteration'>Iteration over samples</a>\n",
    "\n",
    "* <a href='#subsetselection'>Subset selection</a>\n",
    "\n",
    "* <a href='#serialization'>Saving/reloading a dataset (Serialization)</a>\n",
    "\n",
    "* <a href='#arithmetic'> Combining multiple datasets and arithmetic on useful subsets within datasets </a>\n",
    "\n",
    "* <a href='#portability'>Portability (e.g. with sklearn)</a>"
   ]
  },
  {
   "cell_type": "markdown",
   "metadata": {},
   "source": [
    "<a id='motivation'></a>"
   ]
  },
  {
   "cell_type": "markdown",
   "metadata": {},
   "source": [
    "## A Python data structure to improve handling of datasets in machine learning workflows\n",
    "\n",
    "This class is greatly suited for neuroscience applications (or any other domain), where each sample needs to be uniquely identified with a subject ID (or something similar). \n",
    "\n",
    "Key-level correspondence across data, labels (1 or 2), classnames ('healthy', 'disease') and the related helps maintain data integrity and improve the provenance, in addition to enabling provenance to original sources from where the features have been originally derived.\n",
    "\n",
    "Just to given you a concrete examples, let's look at how an ML dataset is handled traditionally.\n",
    "\n",
    "You have a matrix X of size n x p, with n samples and p features, and a vector y containing the target values (numerical or categorical or multi-output arrays). These X and y serve as training (and test set) for a classifier like SVM to fit the data X to match y as accurately as possible.\n",
    "\n",
    "Let's get a little more concrete, and produce toy data for `X` and `y`:"
   ]
  },
  {
   "cell_type": "code",
   "execution_count": 2,
   "metadata": {
    "scrolled": true
   },
   "outputs": [
    {
     "name": "stdout",
     "output_type": "stream",
     "text": [
      "Using matplotlib backend: TkAgg\n",
      "X : \n",
      "[[0.48 0.76 0.75]\n",
      " [0.93 0.46 0.06]\n",
      " [0.61 0.41 0.4 ]\n",
      " [0.17 0.57 0.56]\n",
      " [0.74 0.06 0.72]\n",
      " [0.05 0.6  0.33]\n",
      " [0.48 0.91 0.84]\n",
      " [0.25 0.58 0.14]\n",
      " [0.57 0.39 0.96]\n",
      " [0.64 0.11 0.84]]\n",
      "y : \n",
      "[1, 1, 1, 1, 1, 2, 2, 2, 2, 2]\n"
     ]
    }
   ],
   "source": [
    "import sys, os\n",
    "import numpy as np\n",
    "import matplotlib\n",
    "%matplotlib\n",
    "%matplotlib inline\n",
    "import matplotlib.pyplot as plt\n",
    "\n",
    "n = 10 # number of samples\n",
    "p = 3  # number of features\n",
    "\n",
    "X = np.random.random([n, p]) # random data for illustration\n",
    "y = [1]*5 + [2]*5            # random labels ...\n",
    "\n",
    "np.set_printoptions(precision=2) # save some screen space\n",
    "print('X : \\n{}'.format(X))\n",
    "print('y : \\n{}'.format(y))"
   ]
  },
  {
   "cell_type": "markdown",
   "metadata": {},
   "source": [
    "Almost all the machine learning toolboxes take their input in this form: X and y, regardless of the original source that produced these features in the first place.\n",
    "\n",
    "This is all fine if all you ever wanted to do is to extract some features, do some machine learning and dispose these features away! \n",
    "\n",
    "** But this is almost never the case!**\n",
    "\n",
    "Because it doesn't simply end there.\n",
    "\n",
    "At a minimum, I often need to know \n",
    " * which samples are misclassified - meaning you need to know what the identifiers are and not simply their row indices in X?\n",
    " * what are the characteristics of those samples?\n",
    " * what classes do they belong to?\n"
   ]
  },
  {
   "cell_type": "markdown",
   "metadata": {},
   "source": [
    "And all this info needs to be obtained\n",
    " * without having to write lots of code connecting few non-obvious links to disparate sources of data (numerical features X, and sample identifiers in a CSV file) to find the relevant info\n",
    " * without having to track down who or which method originally produced these features\n",
    " * how the previous personnel or grad student organized the whole dataset, if you haven't generated the features yourself from scratch\n",
    "\n",
    "And if you are like me, you would be thinking about how would you organize your workflow such that the aforementioned tasks can be accomplished with ease.\n",
    " \n",
    "This data structure attempts to accomplish that with ease. By always organizing the extracted features keyed-in into a dictionary with their *sample id*, and other important info such as *target values* and other identified info. This, by definition, preserves the integrity of the data (inability to incorrectly label samples etc).\n",
    "\n",
    "No, this data structure doesn't offer the full [provenance tracking](http://rrcns.readthedocs.io/en/latest/provenance_tracking.html), which is quite a challenging problem. But it tries make your life a little easier in your ML workflows."
   ]
  },
  {
   "cell_type": "markdown",
   "metadata": {},
   "source": [
    "An example application is shown below, touching upon the following topics:\n",
    "\n",
    "* <a href='#motivation'>Motivation</a>\n",
    "\n",
    "* <a href='#constructor'>Constructing a dataset</a>\n",
    "\n",
    "* <a href='#attributes'>Attributes</a>\n",
    "\n",
    "* <a href='#access'>Accessing samples</a>\n",
    "\n",
    "* <a href='#iteration'>Iteration over samples</a>\n",
    "\n",
    "* <a href='#subsetselection'>Subset selection</a>\n",
    "\n",
    "* <a href='#serialization'>Saving/reloading a dataset (Serialization)</a>\n",
    "\n",
    "* <a href='#arithmetic'> Combining multiple datasets and arithmetic on useful subsets within datasets </a>\n",
    "\n",
    "* <a href='#portability'>Portability (e.g. with sklearn)</a>"
   ]
  },
  {
   "cell_type": "markdown",
   "metadata": {},
   "source": [
    "Improting the necessary modules and our fancy class definition:"
   ]
  },
  {
   "cell_type": "code",
   "execution_count": 5,
   "metadata": {},
   "outputs": [],
   "source": [
    "from pyradigm import ClassificationDataset as ClfDataset\n",
    "from pyradigm import RegressionDataset as RegrDataset"
   ]
  },
  {
   "cell_type": "markdown",
   "metadata": {},
   "source": [
    " "
   ]
  },
  {
   "cell_type": "code",
   "execution_count": null,
   "metadata": {},
   "outputs": [],
   "source": [
    "\n",
    "from pyradigm import ClassificationDataset\n",
    "\n",
    "dataset = ClassificationDataset()\n",
    "dataset.description = 'useful description with param values’\n",
    "\n",
    "for subj_id in get_id_list(class_id):\n",
    "        dataset.add_samplet(subj_id, \n",
    "                            get_features(work_dir, subj_id), \n",
    "                            target=class_id)\n"
   ]
  },
  {
   "cell_type": "markdown",
   "metadata": {},
   "source": [
    "We can now instantiate it and give it a description:"
   ]
  },
  {
   "cell_type": "code",
   "execution_count": 30,
   "metadata": {},
   "outputs": [],
   "source": [
    "dataset = ClfDataset()\n",
    "dataset.description = 'ADNI1: cortical thickness features from Freesurfer v6.0, QCed.'"
   ]
  },
  {
   "cell_type": "code",
   "execution_count": 7,
   "metadata": {
    "scrolled": true
   },
   "outputs": [
    {
     "data": {
      "text/plain": [
       "ADNI1: cortical thickness features from Freesurfer v6.0, QCed.\n",
       "Empty dataset."
      ]
     },
     "execution_count": 7,
     "metadata": {},
     "output_type": "execute_result"
    }
   ],
   "source": [
    "dataset"
   ]
  },
  {
   "cell_type": "markdown",
   "metadata": {},
   "source": [
    "You can see the dataset some description attached to it, however we can also it is empty. This can be verified in a boolean context as shown below:"
   ]
  },
  {
   "cell_type": "code",
   "execution_count": 5,
   "metadata": {},
   "outputs": [
    {
     "data": {
      "text/plain": [
       "False"
      ]
     },
     "execution_count": 5,
     "metadata": {},
     "output_type": "execute_result"
    }
   ],
   "source": [
    "bool(dataset)"
   ]
  },
  {
   "cell_type": "markdown",
   "metadata": {
    "collapsed": true
   },
   "source": [
    "Let's add samples to this dataset which is when this dataset implementation becomes really handy. Before we do that, we will define some convenience routines defined to just illustrate a simple yet common use of this dataset."
   ]
  },
  {
   "cell_type": "code",
   "execution_count": 8,
   "metadata": {},
   "outputs": [],
   "source": [
    "def read_thickness(path):\n",
    "    \"\"\"Dummy function to minic a data reader.\"\"\"\n",
    "\n",
    "    # in your actural routine, this might be:\n",
    "    #   pysurfer.read_thickness(path).values()\n",
    "    return np.random.random(2)\n",
    "\n",
    "\n",
    "def get_features(work_dir, subj_id):\n",
    "    \"\"\"Returns the whole brain cortical thickness for a given subject ID.\"\"\"\n",
    "\n",
    "    # extension to identify the data file; this could be .curv, anything else you choose\n",
    "    ext_thickness = '.thickness'\n",
    "\n",
    "    thickness = dict()\n",
    "    for hemi in ['lh', 'rh']:\n",
    "        path_thickness = os.path.join(work_dir, subj_id, hemi + ext_thickness)\n",
    "        thickness[hemi] = read_thickness(path_thickness)\n",
    "\n",
    "    # concatenating them to build a whole brain feature set\n",
    "    thickness_wb = np.concatenate([thickness['lh'], thickness['rh']])\n",
    "\n",
    "    return thickness_wb"
   ]
  },
  {
   "cell_type": "markdown",
   "metadata": {},
   "source": [
    "So now we have IO routines to read the data for us. Let's define where the data will come from:"
   ]
  },
  {
   "cell_type": "code",
   "execution_count": 15,
   "metadata": {},
   "outputs": [],
   "source": [
    "work_dir = '/project/ADNI/FreesurferThickness_v4p3'\n",
    "class_set = ['Cntrl', 'Alzmr', 'MCI']\n",
    "class_sizes = [7, 8, 6]"
   ]
  },
  {
   "cell_type": "markdown",
   "metadata": {},
   "source": [
    "This would obviously change for your applications, but this has sufficient properties to illustrate the point."
   ]
  },
  {
   "cell_type": "markdown",
   "metadata": {},
   "source": [
    "Let's look at what methods this dataset offers us:"
   ]
  },
  {
   "cell_type": "code",
   "execution_count": 11,
   "metadata": {},
   "outputs": [
    {
     "data": {
      "text/plain": [
       "['add_attr',\n",
       " 'add_dataset_attr',\n",
       " 'add_samplet',\n",
       " 'attr',\n",
       " 'attr_dtype',\n",
       " 'attr_summary',\n",
       " 'data',\n",
       " 'data_and_labels',\n",
       " 'data_and_targets',\n",
       " 'dataset_attr',\n",
       " 'del_attr',\n",
       " 'del_samplet',\n",
       " 'description',\n",
       " 'dtype',\n",
       " 'extend',\n",
       " 'feature_names',\n",
       " 'from_arff',\n",
       " 'get',\n",
       " 'get_attr',\n",
       " 'get_class',\n",
       " 'get_data_matrix_in_order',\n",
       " 'get_feature_subset',\n",
       " 'get_subset',\n",
       " 'glance',\n",
       " 'num_features',\n",
       " 'num_samplets',\n",
       " 'num_targets',\n",
       " 'random_subset',\n",
       " 'random_subset_ids',\n",
       " 'random_subset_ids_by_count',\n",
       " 'rename_targets',\n",
       " 'sample_ids_in_class',\n",
       " 'samplet_ids',\n",
       " 'save',\n",
       " 'shape',\n",
       " 'summarize',\n",
       " 'target_set',\n",
       " 'target_sizes',\n",
       " 'targets',\n",
       " 'train_test_split_ids',\n",
       " 'transform']"
      ]
     },
     "execution_count": 11,
     "metadata": {},
     "output_type": "execute_result"
    }
   ],
   "source": [
    "[mm for mm in dir(dataset) if not mm.startswith('_') ]"
   ]
  },
  {
   "cell_type": "markdown",
   "metadata": {},
   "source": [
    "That's a lot of methods and attributes to use, organize and retrieve datasets. \n",
    "\n",
    "So let's go through them by their usage sections."
   ]
  },
  {
   "cell_type": "markdown",
   "metadata": {},
   "source": [
    "## Constructor\n",
    "\n",
    "You can see there few methods such as `add_sample`, `get_subset` etc: important method being `add_sample`, which is key to constructing this dataset. Let's go ahead and some samples:"
   ]
  },
  {
   "cell_type": "markdown",
   "metadata": {},
   "source": [
    "To contruct a dataset, one typically starts with a list of subject IDs to be added - we create few random lists, each to be considered as a separate class:"
   ]
  },
  {
   "cell_type": "code",
   "execution_count": 27,
   "metadata": {},
   "outputs": [],
   "source": [
    "import random\n",
    "\n",
    "random.seed(42)\n",
    "\n",
    "def get_id_list(class_name, size=10):\n",
    "    \"\"\"Generates a random ID list. \"\"\"\n",
    "        \n",
    "    return ['{}{:04d}'.format(class_name[0],np.random.randint(1000)) for _ in range(size)]\n"
   ]
  },
  {
   "cell_type": "markdown",
   "metadata": {},
   "source": [
    "Now we go through each of the above classes, and add each samplet* that class to the dataset.\n",
    "\n",
    "*Note*: `samplet` here refers to a single in the sample feature matrix X. This new term `samplet` is defined to distinguish individual row elements of X from X itself and minimized confusion."
   ]
  },
  {
   "cell_type": "code",
   "execution_count": 34,
   "metadata": {},
   "outputs": [
    {
     "name": "stdout",
     "output_type": "stream",
     "text": [
      "Adding Cntrl\n",
      "Adding Alzmr\n",
      "Adding   MCI\n"
     ]
    }
   ],
   "source": [
    "for cls_id, cls_size in zip(class_set, class_sizes):\n",
    "\n",
    "    for subj_id in get_id_list(cls_id, cls_size):\n",
    "        \n",
    "        dataset.add_samplet(subj_id, \n",
    "                            get_features(work_dir, subj_id), \n",
    "                            target=cls_id)\n",
    "\n",
    "        \n",
    "dataset.add_attr('age', 'subject24', 74)\n",
    "dataset.add_attr('sex', 'subject24', 'female')\n",
    "\n",
    "dataset.add_attr('qualtiy_check', 'subject24', 'Passed')\n",
    "dataset.add_attr('qualtiy_check', 'subid_042', 'Failed')\n",
    "\n",
    "dataset.add_attr(('age', 'sex'), 'subject24', (74, 'female'))\n",
    "\n",
    "dataset.add_dataset_attr('source_dir', '/distr/project/mydataset')\n",
    "dataset.add_dataset_attr('softwareA_version', '0.6.2')\n",
    "dataset.add_dataset_attr('CLI_parameters', ' -i blah -k 2 -m hist')\n",
    "dataset.add_dataset_attr('curator_ID', 'JohnDoe')\n",
    "\n",
    "dataset.save('/project/curated_datasets/usable_features.pkl')\n"
   ]
  },
  {
   "cell_type": "code",
   "execution_count": 35,
   "metadata": {},
   "outputs": [
    {
     "data": {
      "text/plain": [
       "ADNI1: cortical thickness features from Freesurfer v6.0, QCed.\n",
       "63 samplets, 3 classes, 4 features\n",
       "Class Cntrl : 21 samplets\n",
       "Class Alzmr : 24 samplets\n",
       "Class   MCI : 18 samplets"
      ]
     },
     "execution_count": 35,
     "metadata": {},
     "output_type": "execute_result"
    }
   ],
   "source": [
    "dataset"
   ]
  },
  {
   "cell_type": "code",
   "execution_count": 16,
   "metadata": {},
   "outputs": [
    {
     "name": "stdout",
     "output_type": "stream",
     "text": [
      "Working on class Cntrl\n",
      "\t reading subject           C0920\n",
      "\t reading subject           C0599\n",
      "\t reading subject           C0937\n",
      "\t reading subject           C0077\n",
      "\t reading subject           C0635\n",
      "\t reading subject           C0903\n",
      "\t reading subject           C0048\n",
      "Working on class Alzmr\n",
      "\t reading subject           A0448\n",
      "\t reading subject           A0743\n",
      "\t reading subject           A0047\n",
      "\t reading subject           A0185\n",
      "\t reading subject           A0364\n",
      "\t reading subject           A0191\n",
      "\t reading subject           A0922\n",
      "\t reading subject           A0538\n",
      "Working on class   MCI\n",
      "\t reading subject           M0007\n",
      "\t reading subject           M0776\n",
      "\t reading subject           M0407\n",
      "\t reading subject           M0922\n",
      "\t reading subject           M0376\n",
      "\t reading subject           M0601\n"
     ]
    }
   ],
   "source": [
    "for class_index, class_id in enumerate(class_set):\n",
    "    print('Adding class {:>5}'.format(class_id))\n",
    "\n",
    "    target_list = read_target_list(class_id,class_sizes[class_index])\n",
    "    for subj_id in target_list:\n",
    "        print('\\t reading subject {:>7}'.format(subj_id))\n",
    "        thickness_wb = get_features(work_dir, subj_id)\n",
    "\n",
    "        # adding the sample to the dataset\n",
    "        dataset.add_samplet(subj_id, thickness_wb, class_index, class_id)"
   ]
  },
  {
   "cell_type": "markdown",
   "metadata": {},
   "source": [
    "**Nice. Isn't it?**"
   ]
  },
  {
   "cell_type": "markdown",
   "metadata": {},
   "source": [
    "So what's nice about this, you say? *The simple fact that you are constructing a dataset as you read the data* in its most elemental form (in the units of the dataset such as the subject ID in our neuroimaging application). You're done as soon as you're done reading the features from disk.\n",
    "\n",
    "What's more - you can inspect the dataset in an intuitive manner, as shown below:"
   ]
  },
  {
   "cell_type": "code",
   "execution_count": 11,
   "metadata": {},
   "outputs": [
    {
     "data": {
      "text/plain": [
       "ADNI1 baseline: cortical thickness features from Freesurfer v4.3, QCed.\n",
       "45 samples, 3 classes, 4 features.\n",
       "Class Cntrl : 15 samples.\n",
       "Class Alzmr : 12 samples.\n",
       "Class   MCI : 18 samples."
      ]
     },
     "execution_count": 11,
     "metadata": {},
     "output_type": "execute_result"
    }
   ],
   "source": [
    "dataset"
   ]
  },
  {
   "cell_type": "markdown",
   "metadata": {},
   "source": [
    "Even better, right? No more coding of several commands to get the complete and concise sense of the dataset."
   ]
  },
  {
   "cell_type": "markdown",
   "metadata": {},
   "source": [
    "<a id='attributes'></a>"
   ]
  },
  {
   "cell_type": "markdown",
   "metadata": {},
   "source": [
    "## Convenient attributes\n",
    "\n",
    "If you would like, you can always get more specific information, such as:"
   ]
  },
  {
   "cell_type": "code",
   "execution_count": 12,
   "metadata": {},
   "outputs": [
    {
     "data": {
      "text/plain": [
       "45"
      ]
     },
     "execution_count": 12,
     "metadata": {},
     "output_type": "execute_result"
    }
   ],
   "source": [
    "dataset.num_samples"
   ]
  },
  {
   "cell_type": "code",
   "execution_count": 13,
   "metadata": {},
   "outputs": [
    {
     "data": {
      "text/plain": [
       "4"
      ]
     },
     "execution_count": 13,
     "metadata": {},
     "output_type": "execute_result"
    }
   ],
   "source": [
    "dataset.num_features"
   ]
  },
  {
   "cell_type": "code",
   "execution_count": 14,
   "metadata": {},
   "outputs": [
    {
     "data": {
      "text/plain": [
       "['MCI', 'Cntrl', 'Alzmr']"
      ]
     },
     "execution_count": 14,
     "metadata": {},
     "output_type": "execute_result"
    }
   ],
   "source": [
    "dataset.class_set"
   ]
  },
  {
   "cell_type": "code",
   "execution_count": 15,
   "metadata": {},
   "outputs": [
    {
     "data": {
      "text/plain": [
       "Counter({'Alzmr': 12, 'Cntrl': 15, 'MCI': 18})"
      ]
     },
     "execution_count": 15,
     "metadata": {},
     "output_type": "execute_result"
    }
   ],
   "source": [
    "dataset.class_sizes"
   ]
  },
  {
   "cell_type": "code",
   "execution_count": 16,
   "metadata": {},
   "outputs": [
    {
     "data": {
      "text/plain": [
       "15"
      ]
     },
     "execution_count": 16,
     "metadata": {},
     "output_type": "execute_result"
    }
   ],
   "source": [
    "dataset.class_sizes['Cntrl']"
   ]
  },
  {
   "cell_type": "markdown",
   "metadata": {},
   "source": [
    "If you'd like to take a look data inside for few subjects - shall we call it a glance?"
   ]
  },
  {
   "cell_type": "code",
   "execution_count": 17,
   "metadata": {},
   "outputs": [
    {
     "data": {
      "text/plain": [
       "{'C0170': array([ 0.37,  0.78,  0.5 ,  0.79]),\n",
       " 'C0241': array([ 0.11,  0.18,  0.58,  0.36]),\n",
       " 'C0408': array([ 0.49,  0.38,  0.05,  0.82]),\n",
       " 'C0562': array([ 0.64,  0.59,  0.01,  0.8 ]),\n",
       " 'C0760': array([ 0.12,  0.51,  0.95,  0.23])}"
      ]
     },
     "execution_count": 17,
     "metadata": {},
     "output_type": "execute_result"
    }
   ],
   "source": [
    "dataset.glance()"
   ]
  },
  {
   "cell_type": "markdown",
   "metadata": {},
   "source": [
    "We can control the number of items to glance, by passing a number to dataset.glance() method:"
   ]
  },
  {
   "cell_type": "code",
   "execution_count": 18,
   "metadata": {},
   "outputs": [
    {
     "data": {
      "text/plain": [
       "{'C0408': array([ 0.49,  0.38,  0.05,  0.82]),\n",
       " 'C0562': array([ 0.64,  0.59,  0.01,  0.8 ])}"
      ]
     },
     "execution_count": 18,
     "metadata": {},
     "output_type": "execute_result"
    }
   ],
   "source": [
    "dataset.glance(2)"
   ]
  },
  {
   "cell_type": "markdown",
   "metadata": {},
   "source": [
    "Or you may be wondering what are the subject IDs in the dataset.. here they are:"
   ]
  },
  {
   "cell_type": "code",
   "execution_count": 19,
   "metadata": {},
   "outputs": [
    {
     "data": {
      "text/plain": [
       "['C0562',\n",
       " 'C0408',\n",
       " 'C0760',\n",
       " 'C0170',\n",
       " 'C0241',\n",
       " 'C0980',\n",
       " 'C0822',\n",
       " 'C0565',\n",
       " 'C0949',\n",
       " 'C0041',\n",
       " 'C0372',\n",
       " 'C0141',\n",
       " 'C0492',\n",
       " 'C0064',\n",
       " 'C0557',\n",
       " 'A0034',\n",
       " 'A0768',\n",
       " 'A0240',\n",
       " 'A0042',\n",
       " 'A0141',\n",
       " 'A0888',\n",
       " 'A0032',\n",
       " 'A0596',\n",
       " 'A0969',\n",
       " 'A0215',\n",
       " 'A0074',\n",
       " 'A0229',\n",
       " 'M0760',\n",
       " 'M0434',\n",
       " 'M0033',\n",
       " 'M0942',\n",
       " 'M0034',\n",
       " 'M0868',\n",
       " 'M0595',\n",
       " 'M0476',\n",
       " 'M0770',\n",
       " 'M0577',\n",
       " 'M0638',\n",
       " 'M0421',\n",
       " 'M0006',\n",
       " 'M0552',\n",
       " 'M0040',\n",
       " 'M0165',\n",
       " 'M0256',\n",
       " 'M0127']"
      ]
     },
     "execution_count": 19,
     "metadata": {},
     "output_type": "execute_result"
    }
   ],
   "source": [
    "dataset.sample_ids"
   ]
  },
  {
   "cell_type": "markdown",
   "metadata": {},
   "source": [
    "<a id='access'></a>"
   ]
  },
  {
   "cell_type": "markdown",
   "metadata": {},
   "source": [
    "## Accessing samples\n",
    "\n",
    "Thanks to elegant implementation, data for a given sample 'M0299' can simply be obtained by:"
   ]
  },
  {
   "cell_type": "code",
   "execution_count": 21,
   "metadata": {},
   "outputs": [
    {
     "data": {
      "text/plain": [
       "array([ 0.27,  0.52,  0.61,  0.49])"
      ]
     },
     "execution_count": 21,
     "metadata": {},
     "output_type": "execute_result"
    }
   ],
   "source": [
    "dataset['M0040']"
   ]
  },
  {
   "cell_type": "markdown",
   "metadata": {},
   "source": [
    "Like a Python dict, it raises an error if the key is not in the dataset:"
   ]
  },
  {
   "cell_type": "code",
   "execution_count": 22,
   "metadata": {},
   "outputs": [
    {
     "ename": "KeyError",
     "evalue": "'dlfjdjf not found in dataset.'",
     "output_type": "error",
     "traceback": [
      "\u001b[0;31m---------------------------------------------------------------------------\u001b[0m",
      "\u001b[0;31mKeyError\u001b[0m                                  Traceback (most recent call last)",
      "\u001b[0;32m<ipython-input-22-4b19d52bac71>\u001b[0m in \u001b[0;36m<module>\u001b[0;34m()\u001b[0m\n\u001b[0;32m----> 1\u001b[0;31m \u001b[0mdataset\u001b[0m\u001b[0;34m[\u001b[0m\u001b[0;34m'dlfjdjf'\u001b[0m\u001b[0;34m]\u001b[0m\u001b[0;34m\u001b[0m\u001b[0m\n\u001b[0m",
      "\u001b[0;32m~/dev/pyradigm/pyradigm/pyradigm.py\u001b[0m in \u001b[0;36m__getitem__\u001b[0;34m(self, item)\u001b[0m\n\u001b[1;32m    839\u001b[0m             \u001b[0;32mreturn\u001b[0m \u001b[0mself\u001b[0m\u001b[0;34m.\u001b[0m\u001b[0m__data\u001b[0m\u001b[0;34m[\u001b[0m\u001b[0mitem\u001b[0m\u001b[0;34m]\u001b[0m\u001b[0;34m\u001b[0m\u001b[0m\n\u001b[1;32m    840\u001b[0m         \u001b[0;32melse\u001b[0m\u001b[0;34m:\u001b[0m\u001b[0;34m\u001b[0m\u001b[0m\n\u001b[0;32m--> 841\u001b[0;31m             \u001b[0;32mraise\u001b[0m \u001b[0mKeyError\u001b[0m\u001b[0;34m(\u001b[0m\u001b[0;34m'{} not found in dataset.'\u001b[0m\u001b[0;34m.\u001b[0m\u001b[0mformat\u001b[0m\u001b[0;34m(\u001b[0m\u001b[0mitem\u001b[0m\u001b[0;34m)\u001b[0m\u001b[0;34m)\u001b[0m\u001b[0;34m\u001b[0m\u001b[0m\n\u001b[0m\u001b[1;32m    842\u001b[0m \u001b[0;34m\u001b[0m\u001b[0m\n\u001b[1;32m    843\u001b[0m     \u001b[0;32mdef\u001b[0m \u001b[0m__iter__\u001b[0m\u001b[0;34m(\u001b[0m\u001b[0mself\u001b[0m\u001b[0;34m)\u001b[0m\u001b[0;34m:\u001b[0m\u001b[0;34m\u001b[0m\u001b[0m\n",
      "\u001b[0;31mKeyError\u001b[0m: 'dlfjdjf not found in dataset.'"
     ]
    }
   ],
   "source": [
    "dataset['dlfjdjf']"
   ]
  },
  {
   "cell_type": "markdown",
   "metadata": {},
   "source": [
    "A more graceful handling would be to use `dataset.get` to control what value to be returned in case the requested id is not found in the dataset."
   ]
  },
  {
   "cell_type": "code",
   "execution_count": 23,
   "metadata": {},
   "outputs": [
    {
     "data": {
      "text/plain": [
       "nan"
      ]
     },
     "execution_count": 23,
     "metadata": {},
     "output_type": "execute_result"
    }
   ],
   "source": [
    "dataset.get('dkfjd', np.nan)"
   ]
  },
  {
   "cell_type": "markdown",
   "metadata": {},
   "source": [
    "<a id='iteration'></a>"
   ]
  },
  {
   "cell_type": "markdown",
   "metadata": {},
   "source": [
    "## Iteration"
   ]
  },
  {
   "cell_type": "markdown",
   "metadata": {},
   "source": [
    "Thanks to builtin iteration, we can easily iterate over all the samples:"
   ]
  },
  {
   "cell_type": "code",
   "execution_count": 24,
   "metadata": {},
   "outputs": [
    {
     "name": "stdout",
     "output_type": "stream",
     "text": [
      "C0562 :      Cntrl : [ 0.64  0.59  0.01  0.8 ]\n",
      "C0408 :      Cntrl : [ 0.49  0.38  0.05  0.82]\n",
      "C0760 :      Cntrl : [ 0.12  0.51  0.95  0.23]\n",
      "C0170 :      Cntrl : [ 0.37  0.78  0.5   0.79]\n",
      "C0241 :      Cntrl : [ 0.11  0.18  0.58  0.36]\n",
      "C0980 :      Cntrl : [ 0.1   0.52  0.79  0.68]\n",
      "C0822 :      Cntrl : [ 0.44  0.97  0.06  0.99]\n",
      "C0565 :      Cntrl : [ 0.89  0.5   0.89  0.48]\n",
      "C0949 :      Cntrl : [ 0.84  0.84  0.51  0.12]\n",
      "C0041 :      Cntrl : [ 0.07  0.19  0.68  0.81]\n",
      "C0372 :      Cntrl : [ 0.7   0.05  0.67  0.39]\n",
      "C0141 :      Cntrl : [ 0.46  0.18  0.69  0.17]\n",
      "C0492 :      Cntrl : [ 0.82  0.77  0.07  0.69]\n",
      "C0064 :      Cntrl : [ 0.24  0.54  0.36  0.37]\n",
      "C0557 :      Cntrl : [ 0.59  0.86  0.1   0.42]\n",
      "A0034 :      Alzmr : [ 0.35  0.96  0.41  0.93]\n",
      "A0768 :      Alzmr : [ 0.65  0.37  0.7   0.24]\n",
      "A0240 :      Alzmr : [ 0.87  0.78  0.1   0.28]\n",
      "A0042 :      Alzmr : [ 0.12  0.3   0.35  0.7 ]\n",
      "A0141 :      Alzmr : [ 0.85  0.28  0.06  0.74]\n",
      "A0888 :      Alzmr : [ 0.85  0.78  0.93  0.7 ]\n",
      "A0032 :      Alzmr : [ 0.28  0.41  0.61  0.09]\n",
      "A0596 :      Alzmr : [ 0.28  0.15  0.88  0.23]\n",
      "A0969 :      Alzmr : [ 0.47  0.37  0.52  0.58]\n",
      "A0215 :      Alzmr : [ 0.49  0.7   0.31  0.96]\n",
      "A0074 :      Alzmr : [ 0.87  0.7   0.37  0.7 ]\n",
      "A0229 :      Alzmr : [ 0.96  0.34  0.59  0.96]\n",
      "M0760 :        MCI : [ 0.27  0.22  0.37  0.14]\n",
      "M0434 :        MCI : [ 0.26  0.04  0.49  0.92]\n",
      "M0033 :        MCI : [ 0.14  0.39  0.71  0.5 ]\n",
      "M0942 :        MCI : [ 0.19  0.29  0.42  0.46]\n",
      "M0034 :        MCI : [ 0.36  0.54  0.67  0.71]\n",
      "M0868 :        MCI : [ 0.29  0.46  0.47  0.83]\n",
      "M0595 :        MCI : [ 0.62  0.07  0.66  0.75]\n",
      "M0476 :        MCI : [ 0.73  0.97  0.59  0.24]\n",
      "M0770 :        MCI : [ 0.81  0.78  0.28  0.61]\n",
      "M0577 :        MCI : [ 0.84  0.86  0.94  0.5 ]\n",
      "M0638 :        MCI : [ 0.61  0.64  0.94  0.94]\n",
      "M0421 :        MCI : [ 0.73  0.16  0.97  0.69]\n",
      "M0006 :        MCI : [ 0.76  0.62  0.49  0.03]\n",
      "M0552 :        MCI : [ 0.26  0.85  0.13  0.31]\n",
      "M0040 :        MCI : [ 0.27  0.52  0.61  0.49]\n",
      "M0165 :        MCI : [ 0.03  0.79  0.92  0.79]\n",
      "M0256 :        MCI : [ 0.06  0.06  0.69  0.97]\n",
      "M0127 :        MCI : [ 0.42  0.11  0.93  0.5 ]\n"
     ]
    }
   ],
   "source": [
    "for sample, features in dataset:\n",
    "    print(\"{} : {:>10} : {}\".format(sample, dataset.classes[sample], features))"
   ]
  },
  {
   "cell_type": "markdown",
   "metadata": {},
   "source": [
    "Did you see that? *It's so intuitive and natural!* Such a clean traversal of dataset."
   ]
  },
  {
   "cell_type": "markdown",
   "metadata": {},
   "source": [
    "Thanks to the choice of the OrderedDict() to represent the data, classes and labels underneath, the order of sample addition is retained. Hence the correspondence across samples in the dataset not only key-wise (by the sample id), but also index-wise."
   ]
  },
  {
   "cell_type": "markdown",
   "metadata": {},
   "source": [
    "<a id='transform'></a>"
   ]
  },
  {
   "cell_type": "markdown",
   "metadata": {},
   "source": [
    "## Subject-wise transform\n",
    "\n",
    "Quite often, we are interested in computing some statistics on data for a given subject (such as mean, or ROI-wise median). Typically this requires a loop, with some computation and organizing it in a new dataset! A simple routine pattern of usage, but can't avoided if you are still fiddling with representing your dataset in medieval matrices! :).\n",
    "\n",
    "If you organized your dataset in a `pyradigm`, such computation is trivial, thanks to builtin implementation of `transform` method. The mean value for each subject can be computed and organized in a new dataset, with an intuitive and single line:"
   ]
  },
  {
   "cell_type": "code",
   "execution_count": 25,
   "metadata": {},
   "outputs": [
    {
     "data": {
      "text/plain": [
       "mean values per subject\n",
       "45 samples, 3 classes, 1 features.\n",
       "Class Cntrl : 15 samples.\n",
       "Class Alzmr : 12 samples.\n",
       "Class   MCI : 18 samples."
      ]
     },
     "execution_count": 25,
     "metadata": {},
     "output_type": "execute_result"
    }
   ],
   "source": [
    "mean_data = dataset.transform(np.mean)\n",
    "mean_data.description = 'mean values per subject'\n",
    "mean_data"
   ]
  },
  {
   "cell_type": "markdown",
   "metadata": {},
   "source": [
    "As the transform accepts an arbitrary callable, we could do many more sophisticated things, such as access the subset of features e.g. cortical thickness for a particular region of interest (say posterior cingulate gyrus)."
   ]
  },
  {
   "cell_type": "code",
   "execution_count": 26,
   "metadata": {},
   "outputs": [],
   "source": [
    "# let's make a toy function to return the indices for the ROI\n",
    "def get_ROI_indices(x): return x[:3] "
   ]
  },
  {
   "cell_type": "markdown",
   "metadata": {},
   "source": [
    "Using this \"mask\" function, we can easily obtain features for an ROI"
   ]
  },
  {
   "cell_type": "code",
   "execution_count": 27,
   "metadata": {},
   "outputs": [],
   "source": [
    "pcg = dataset.transform(get_ROI_indices)"
   ]
  },
  {
   "cell_type": "markdown",
   "metadata": {},
   "source": [
    "We can verify that the new dataset does indeed have only 3 features, for the same subjects/classes:"
   ]
  },
  {
   "cell_type": "code",
   "execution_count": 28,
   "metadata": {},
   "outputs": [
    {
     "data": {
      "text/plain": [
       "None\n",
       "ADNI1 baseline: cortical thickness features from Freesurfer v4.3, QCed.\n",
       "45 samples, 3 classes, 3 features.\n",
       "Class Cntrl : 15 samples.\n",
       "Class Alzmr : 12 samples.\n",
       "Class   MCI : 18 samples."
      ]
     },
     "execution_count": 28,
     "metadata": {},
     "output_type": "execute_result"
    }
   ],
   "source": [
    "pcg"
   ]
  },
  {
   "cell_type": "code",
   "execution_count": 29,
   "metadata": {},
   "outputs": [
    {
     "data": {
      "text/plain": [
       "3"
      ]
     },
     "execution_count": 29,
     "metadata": {},
     "output_type": "execute_result"
    }
   ],
   "source": [
    "pcg.num_features"
   ]
  },
  {
   "cell_type": "markdown",
   "metadata": {},
   "source": [
    "Let's make a bar plot with the just computed numbers:"
   ]
  },
  {
   "cell_type": "code",
   "execution_count": 30,
   "metadata": {},
   "outputs": [],
   "source": [
    "data, lbl, keys = pcg.data_and_targets()"
   ]
  },
  {
   "cell_type": "code",
   "execution_count": 31,
   "metadata": {},
   "outputs": [
    {
     "data": {
      "image/png": "[encoded data removed]",
      "text/plain": [
       "<matplotlib.figure.Figure at 0x1138d6390>"
      ]
     },
     "metadata": {},
     "output_type": "display_data"
    }
   ],
   "source": [
    "n, bins, patches = plt.hist(data)"
   ]
  },
  {
   "cell_type": "markdown",
   "metadata": {},
   "source": [
    "Remember as the original source of data was random, this has no units, property or meaning!"
   ]
  },
  {
   "cell_type": "markdown",
   "metadata": {},
   "source": [
    "<a id='subsetselection'></a>"
   ]
  },
  {
   "cell_type": "markdown",
   "metadata": {},
   "source": [
    "## Subset selection\n",
    "\n",
    "In addition to the structured way of obtaining the various properties of this dataset, this implementation really will come in handy when you have to slice and dice the dataset (with large number of classes and features) into smaller subsets (e.g. for binary classification). Let's see how we can retrieve the data for a single class:"
   ]
  },
  {
   "cell_type": "code",
   "execution_count": 36,
   "metadata": {},
   "outputs": [],
   "source": [
    "ctrl = dataset.get_class('Cntrl')"
   ]
  },
  {
   "cell_type": "code",
   "execution_count": null,
   "metadata": {},
   "outputs": [],
   "source": [
    "\n",
    "# easy iteration over samplets\n",
    "for sample, features in dataset:\n",
    "    print(\"{} : {:>10} : {}\".format(sample, dataset.classes[sample], features))\n",
    "\n",
    "ctrl = dataset.get_class('Healthy')\n",
    "ctrl.glance()\n",
    "\n",
    "bigger = ds1 + ds2 # combine easily\n",
    "\n",
    "no_ctrl_dataset = dataset - ctrl\n",
    "\n",
    "# subject- or row-wise transforms\n",
    "standardized_controls = ctrl.transform(numpy.minmax)\n",
    "\n",
    "# sampling and cross-validation\n",
    "train_set, test_set = dataset.train_test_split_ids( train_perc = 0.5)\n",
    "\n",
    "# various export formats e.g. machine learning\n",
    "data_matrix, target, sample_ids = dataset.data_and_targets()\n",
    "clf.fit(data_matrix, target)\n"
   ]
  },
  {
   "cell_type": "markdown",
   "metadata": {},
   "source": [
    "That's it, obtaining the data for a given class is a simple call away.\n",
    "\n",
    "Now let's see what it looks like:"
   ]
  },
  {
   "cell_type": "code",
   "execution_count": 33,
   "metadata": {},
   "outputs": [
    {
     "data": {
      "text/plain": [
       "\n",
       " Subset derived from: ADNI1 baseline: cortical thickness features from Freesurfer v4.3, QCed.\n",
       "15 samples, 1 classes, 4 features.\n",
       "Class Cntrl : 15 samples."
      ]
     },
     "execution_count": 33,
     "metadata": {},
     "output_type": "execute_result"
    }
   ],
   "source": [
    "ctrl"
   ]
  },
  {
   "cell_type": "markdown",
   "metadata": {},
   "source": [
    "Even with updated description automatically, to indicate its history. Let's see some data from controls:"
   ]
  },
  {
   "cell_type": "code",
   "execution_count": 34,
   "metadata": {},
   "outputs": [
    {
     "data": {
      "text/plain": [
       "{'C0408': array([ 0.49,  0.38,  0.05,  0.82]),\n",
       " 'C0562': array([ 0.64,  0.59,  0.01,  0.8 ])}"
      ]
     },
     "execution_count": 34,
     "metadata": {},
     "output_type": "execute_result"
    }
   ],
   "source": [
    "ctrl.glance(2)"
   ]
  },
  {
   "cell_type": "markdown",
   "metadata": {},
   "source": [
    "We can also query a random subset of samples for manual inspection or cross-validation purposes. For example:"
   ]
  },
  {
   "cell_type": "code",
   "execution_count": 35,
   "metadata": {},
   "outputs": [
    {
     "data": {
      "text/plain": [
       "\n",
       " Subset derived from: ADNI1 baseline: cortical thickness features from Freesurfer v4.3, QCed.\n",
       "12 samples, 3 classes, 4 features.\n",
       "Class Cntrl : 4 samples.\n",
       "Class Alzmr : 3 samples.\n",
       "Class   MCI : 5 samples."
      ]
     },
     "execution_count": 35,
     "metadata": {},
     "output_type": "execute_result"
    }
   ],
   "source": [
    "random_subset = dataset.random_subset(perc_in_class=0.3)\n",
    "random_subset"
   ]
  },
  {
   "cell_type": "markdown",
   "metadata": {},
   "source": [
    "You can see which samples were selected:"
   ]
  },
  {
   "cell_type": "code",
   "execution_count": 36,
   "metadata": {},
   "outputs": [
    {
     "data": {
      "text/plain": [
       "['C0562',\n",
       " 'C0565',\n",
       " 'C0372',\n",
       " 'C0492',\n",
       " 'A0240',\n",
       " 'A0032',\n",
       " 'A0229',\n",
       " 'M0034',\n",
       " 'M0770',\n",
       " 'M0552',\n",
       " 'M0165',\n",
       " 'M0127']"
      ]
     },
     "execution_count": 36,
     "metadata": {},
     "output_type": "execute_result"
    }
   ],
   "source": [
    "random_subset.sample_ids"
   ]
  },
  {
   "cell_type": "markdown",
   "metadata": {},
   "source": [
    "You can verify that it is indeed random by issuing another call:"
   ]
  },
  {
   "cell_type": "code",
   "execution_count": 37,
   "metadata": {},
   "outputs": [
    {
     "data": {
      "text/plain": [
       "['C0562',\n",
       " 'C0822',\n",
       " 'C0949',\n",
       " 'C0141',\n",
       " 'A0034',\n",
       " 'A0141',\n",
       " 'A0032',\n",
       " 'M0434',\n",
       " 'M0942',\n",
       " 'M0868',\n",
       " 'M0421',\n",
       " 'M0552']"
      ]
     },
     "execution_count": 37,
     "metadata": {},
     "output_type": "execute_result"
    }
   ],
   "source": [
    "# supplying a new seed everytime to ensure randomization\n",
    "from datetime import datetime\n",
    "dataset.random_subset(perc_in_class=0.3).sample_ids"
   ]
  },
  {
   "cell_type": "markdown",
   "metadata": {},
   "source": [
    "#### Let's see how we can retrieve specific samples by their IDs (for which there are many use cases):"
   ]
  },
  {
   "cell_type": "code",
   "execution_count": 38,
   "metadata": {},
   "outputs": [
    {
     "data": {
      "text/plain": [
       "\n",
       " Subset derived from: ADNI1 baseline: cortical thickness features from Freesurfer v4.3, QCed.\n",
       "19 samples, 2 classes, 4 features.\n",
       "Class Cntrl : 14 samples.\n",
       "Class Alzmr : 5 samples."
      ]
     },
     "execution_count": 38,
     "metadata": {},
     "output_type": "execute_result"
    }
   ],
   "source": [
    "data = dataset.get_subset(dataset.sample_ids[1:20])\n",
    "data"
   ]
  },
  {
   "cell_type": "markdown",
   "metadata": {},
   "source": [
    "So as simple as that."
   ]
  },
  {
   "cell_type": "markdown",
   "metadata": {},
   "source": [
    "# Cross-validation\n",
    "\n",
    "If you would like to develop a variant of cross-validation, and need to obtain a random split of the dataset to obtain training and test sets, it is as simple as: "
   ]
  },
  {
   "cell_type": "code",
   "execution_count": 39,
   "metadata": {},
   "outputs": [],
   "source": [
    "train_set, test_set = dataset.train_test_split_ids( train_perc = 0.5)"
   ]
  },
  {
   "cell_type": "markdown",
   "metadata": {},
   "source": [
    "This method returns two sets of sample ids corresponding to training set (which 50% of samples from all classes in the dataset) and the rest in test_set. Let's see what they have:"
   ]
  },
  {
   "cell_type": "code",
   "execution_count": 40,
   "metadata": {},
   "outputs": [
    {
     "data": {
      "text/plain": [
       "(['C0760',\n",
       "  'C0822',\n",
       "  'C0565',\n",
       "  'C0170',\n",
       "  'C0562',\n",
       "  'C0141',\n",
       "  'C0041',\n",
       "  'A0768',\n",
       "  'A0888',\n",
       "  'A0032',\n",
       "  'A0969',\n",
       "  'A0141',\n",
       "  'A0034',\n",
       "  'M0434',\n",
       "  'M0421',\n",
       "  'M0577',\n",
       "  'M0256',\n",
       "  'M0127',\n",
       "  'M0033',\n",
       "  'M0760',\n",
       "  'M0476',\n",
       "  'M0165'],\n",
       " ['M0040',\n",
       "  'A0240',\n",
       "  'C0241',\n",
       "  'C0492',\n",
       "  'A0074',\n",
       "  'A0042',\n",
       "  'M0942',\n",
       "  'M0595',\n",
       "  'M0006',\n",
       "  'C0372',\n",
       "  'C0064',\n",
       "  'C0557',\n",
       "  'M0552',\n",
       "  'M0034',\n",
       "  'C0408',\n",
       "  'C0980',\n",
       "  'A0229',\n",
       "  'C0949',\n",
       "  'A0596',\n",
       "  'M0770',\n",
       "  'A0215',\n",
       "  'M0868',\n",
       "  'M0638'])"
      ]
     },
     "execution_count": 40,
     "metadata": {},
     "output_type": "execute_result"
    }
   ],
   "source": [
    "train_set, test_set"
   ]
  },
  {
   "cell_type": "markdown",
   "metadata": {},
   "source": [
    "We can also get a train/test split by specifying an exact number of subjects we would like from each class (e.g. when you would like to avoid class imbalance in the training set):"
   ]
  },
  {
   "cell_type": "code",
   "execution_count": 41,
   "metadata": {},
   "outputs": [],
   "source": [
    "train_set, test_set = dataset.train_test_split_ids( count_per_class = 3)"
   ]
  },
  {
   "cell_type": "markdown",
   "metadata": {},
   "source": [
    "Let's see what the training set contains - we expect 3*3 =9 subjects :"
   ]
  },
  {
   "cell_type": "code",
   "execution_count": 42,
   "metadata": {},
   "outputs": [
    {
     "data": {
      "text/plain": [
       "['C0557',\n",
       " 'C0041',\n",
       " 'C0949',\n",
       " 'A0768',\n",
       " 'A0888',\n",
       " 'A0229',\n",
       " 'M0165',\n",
       " 'M0476',\n",
       " 'M0040']"
      ]
     },
     "execution_count": 42,
     "metadata": {},
     "output_type": "execute_result"
    }
   ],
   "source": [
    "train_set"
   ]
  },
  {
   "cell_type": "markdown",
   "metadata": {},
   "source": [
    "We can indeed verify that is the case, by creating a new smaller dataset from that list of ids and getting a summary:"
   ]
  },
  {
   "cell_type": "code",
   "execution_count": 43,
   "metadata": {},
   "outputs": [
    {
     "data": {
      "text/plain": [
       "\n",
       " Subset derived from: ADNI1 baseline: cortical thickness features from Freesurfer v4.3, QCed.\n",
       "9 samples, 3 classes, 4 features.\n",
       "Class Cntrl : 3 samples.\n",
       "Class Alzmr : 3 samples.\n",
       "Class   MCI : 3 samples."
      ]
     },
     "execution_count": 43,
     "metadata": {},
     "output_type": "execute_result"
    }
   ],
   "source": [
    "training_dataset = dataset.get_subset(train_set)\n",
    "training_dataset"
   ]
  },
  {
   "cell_type": "markdown",
   "metadata": {},
   "source": [
    "Another programmatic way to look into different classes is this:"
   ]
  },
  {
   "cell_type": "code",
   "execution_count": 44,
   "metadata": {},
   "outputs": [
    {
     "data": {
      "text/plain": [
       "(['MCI', 'Cntrl', 'Alzmr'], [2, 0, 1], array([ 3.,  3.,  3.]))"
      ]
     },
     "execution_count": 44,
     "metadata": {},
     "output_type": "execute_result"
    }
   ],
   "source": [
    "class_set, label_set, class_sizes = training_dataset.summarize_classes()\n",
    "class_set, label_set, class_sizes"
   ]
  },
  {
   "cell_type": "markdown",
   "metadata": {},
   "source": [
    "which returns all the classes that you could iterative over."
   ]
  },
  {
   "cell_type": "markdown",
   "metadata": {},
   "source": [
    "Using these two lists, we can easily obtain subset datasets, as illustrated below."
   ]
  },
  {
   "cell_type": "code",
   "execution_count": 45,
   "metadata": {},
   "outputs": [
    {
     "data": {
      "text/plain": [
       "ADNI1 baseline: cortical thickness features from Freesurfer v4.3, QCed.\n",
       "45 samples, 3 classes, 4 features.\n",
       "Class Cntrl : 15 samples.\n",
       "Class Alzmr : 12 samples.\n",
       "Class   MCI : 18 samples."
      ]
     },
     "execution_count": 45,
     "metadata": {},
     "output_type": "execute_result"
    }
   ],
   "source": [
    "dataset"
   ]
  },
  {
   "cell_type": "code",
   "execution_count": 46,
   "metadata": {},
   "outputs": [
    {
     "data": {
      "text/plain": [
       "\n",
       " Subset derived from: ADNI1 baseline: cortical thickness features from Freesurfer v4.3, QCed.\n",
       "27 samples, 2 classes, 4 features.\n",
       "Class Cntrl : 15 samples.\n",
       "Class Alzmr : 12 samples."
      ]
     },
     "execution_count": 46,
     "metadata": {},
     "output_type": "execute_result"
    }
   ],
   "source": [
    "binary_dataset = dataset.get_class(['Cntrl','Alzmr'])\n",
    "binary_dataset"
   ]
  },
  {
   "cell_type": "markdown",
   "metadata": {},
   "source": [
    "How about selecting a subset of features from all samples?"
   ]
  },
  {
   "cell_type": "code",
   "execution_count": 47,
   "metadata": {},
   "outputs": [
    {
     "data": {
      "text/plain": [
       "Subset features derived from: \n",
       " \n",
       " Subset derived from: ADNI1 baseline: cortical thickness features from Freesurfer v4.3, QCed.\n",
       "27 samples, 2 classes, 2 features.\n",
       "Class Cntrl : 15 samples.\n",
       "Class Alzmr : 12 samples."
      ]
     },
     "execution_count": 47,
     "metadata": {},
     "output_type": "execute_result"
    }
   ],
   "source": [
    "binary_dataset.get_feature_subset(range(2))"
   ]
  },
  {
   "cell_type": "markdown",
   "metadata": {},
   "source": [
    "**Great.** Isn't it? You can also see the two-time-point history (initial subset in classes, followed by a subset in features)."
   ]
  },
  {
   "cell_type": "markdown",
   "metadata": {},
   "source": [
    "<a id='serialization'></a>"
   ]
  },
  {
   "cell_type": "markdown",
   "metadata": {},
   "source": [
    "## Serialization\n",
    "\n",
    "Once you have this dataset, you can save and load these trivially using your favourite serialization module. Let's do some pickling:"
   ]
  },
  {
   "cell_type": "code",
   "execution_count": 48,
   "metadata": {},
   "outputs": [],
   "source": [
    "out_file = os.path.join(work_dir,'binary_dataset_Ctrl_Alzr_Freesurfer_thickness_v4p3.MLDataset.pkl')\n",
    "binary_dataset.save(out_file)"
   ]
  },
  {
   "cell_type": "markdown",
   "metadata": {},
   "source": [
    "That's it - it is saved.\n",
    "\n",
    "Let's reload it from disk and make sure we can indeed retrieve it:"
   ]
  },
  {
   "cell_type": "code",
   "execution_count": 49,
   "metadata": {},
   "outputs": [],
   "source": [
    "reloaded = MLDataset(filepath=out_file) # another form of the constructor!"
   ]
  },
  {
   "cell_type": "code",
   "execution_count": 50,
   "metadata": {},
   "outputs": [
    {
     "data": {
      "text/plain": [
       "\n",
       " Subset derived from: ADNI1 baseline: cortical thickness features from Freesurfer v4.3, QCed.\n",
       "27 samples, 2 classes, 4 features.\n",
       "Class Cntrl : 15 samples.\n",
       "Class Alzmr : 12 samples."
      ]
     },
     "execution_count": 50,
     "metadata": {},
     "output_type": "execute_result"
    }
   ],
   "source": [
    "reloaded"
   ]
  },
  {
   "cell_type": "markdown",
   "metadata": {},
   "source": [
    "We can check to see they are indeed one and the same:"
   ]
  },
  {
   "cell_type": "code",
   "execution_count": 51,
   "metadata": {},
   "outputs": [
    {
     "data": {
      "text/plain": [
       "True"
      ]
     },
     "execution_count": 51,
     "metadata": {},
     "output_type": "execute_result"
    }
   ],
   "source": [
    "binary_dataset == reloaded"
   ]
  },
  {
   "cell_type": "markdown",
   "metadata": {},
   "source": [
    "<a id='arithmetic'></a>"
   ]
  },
  {
   "cell_type": "markdown",
   "metadata": {},
   "source": [
    "## Dataset Arithmetic\n",
    "\n",
    "You might wonder how can you combine two different types of features ( thickness and shape ) from the dataset. Piece of cake, see below ...\n",
    "\n",
    "To concatenat two datasets, first we make a second dataset:"
   ]
  },
  {
   "cell_type": "code",
   "execution_count": 52,
   "metadata": {},
   "outputs": [],
   "source": [
    "dataset_two = MLDataset(in_dataset=dataset) # yet another constructor: in its copy form!"
   ]
  },
  {
   "cell_type": "markdown",
   "metadata": {},
   "source": [
    "How can you check if they are \"functionally identical\"? As in same keys, same data and classes for each key... Easy:"
   ]
  },
  {
   "cell_type": "code",
   "execution_count": 53,
   "metadata": {},
   "outputs": [
    {
     "data": {
      "text/plain": [
       "True"
      ]
     },
     "execution_count": 53,
     "metadata": {},
     "output_type": "execute_result"
    }
   ],
   "source": [
    "dataset_two == dataset"
   ]
  },
  {
   "cell_type": "markdown",
   "metadata": {},
   "source": [
    "Now let's try the arithmetic:"
   ]
  },
  {
   "cell_type": "code",
   "execution_count": 54,
   "metadata": {},
   "outputs": [
    {
     "name": "stdout",
     "output_type": "stream",
     "text": [
      "Identical keys found. Trying to horizontally concatenate features for each sample.\n"
     ]
    }
   ],
   "source": [
    "combined = dataset + dataset_two"
   ]
  },
  {
   "cell_type": "markdown",
   "metadata": {},
   "source": [
    "Great. The add method recognized the identical set of keys and performed a horiz cat, as can be noticed by the twice the number of features in the combined dataset:"
   ]
  },
  {
   "cell_type": "code",
   "execution_count": 55,
   "metadata": {},
   "outputs": [
    {
     "data": {
      "text/plain": [
       "45 samples, 3 classes, 8 features.\n",
       "Class Cntrl : 15 samples.\n",
       "Class Alzmr : 12 samples.\n",
       "Class   MCI : 18 samples."
      ]
     },
     "execution_count": 55,
     "metadata": {},
     "output_type": "execute_result"
    }
   ],
   "source": [
    "combined"
   ]
  },
  {
   "cell_type": "markdown",
   "metadata": {},
   "source": [
    "We can also do some removal in similar fashion:"
   ]
  },
  {
   "cell_type": "code",
   "execution_count": 56,
   "metadata": {},
   "outputs": [
    {
     "name": "stdout",
     "output_type": "stream",
     "text": [
      "C0562 removed.\n",
      "C0408 removed.\n",
      "C0760 removed.\n",
      "C0170 removed.\n",
      "C0241 removed.\n",
      "C0980 removed.\n",
      "C0822 removed.\n",
      "C0565 removed.\n",
      "C0949 removed.\n",
      "C0041 removed.\n",
      "C0372 removed.\n",
      "C0141 removed.\n",
      "C0492 removed.\n",
      "C0064 removed.\n",
      "C0557 removed.\n",
      "A0034 removed.\n",
      "A0768 removed.\n",
      "A0240 removed.\n",
      "A0042 removed.\n",
      "A0141 removed.\n",
      "A0888 removed.\n",
      "A0032 removed.\n",
      "A0596 removed.\n",
      "A0969 removed.\n",
      "A0215 removed.\n",
      "A0074 removed.\n",
      "A0229 removed.\n",
      "M0760 removed.\n",
      "M0434 removed.\n",
      "M0033 removed.\n",
      "M0942 removed.\n",
      "M0034 removed.\n",
      "M0868 removed.\n",
      "M0595 removed.\n",
      "M0476 removed.\n",
      "M0770 removed.\n",
      "M0577 removed.\n",
      "M0638 removed.\n",
      "M0421 removed.\n",
      "M0006 removed.\n",
      "M0552 removed.\n",
      "M0040 removed.\n",
      "M0165 removed.\n",
      "M0256 removed.\n",
      "M0127 removed.\n"
     ]
    },
    {
     "name": "stderr",
     "output_type": "stream",
     "text": [
      "/Users/Reddy/dev/pyradigm/pyradigm/pyradigm.py:1169: UserWarning: Requested removal of all the samples - output dataset would be empty.\n",
      "  warnings.warn('Requested removal of all the samples - output dataset would be empty.')\n"
     ]
    }
   ],
   "source": [
    "smaller = combined - dataset"
   ]
  },
  {
   "cell_type": "markdown",
   "metadata": {},
   "source": [
    "Data structure is even producing a warning to let you know the resulting output would be empty! We can verify that:"
   ]
  },
  {
   "cell_type": "code",
   "execution_count": 57,
   "metadata": {},
   "outputs": [
    {
     "data": {
      "text/plain": [
       "False"
      ]
     },
     "execution_count": 57,
     "metadata": {},
     "output_type": "execute_result"
    }
   ],
   "source": [
    "bool(smaller)"
   ]
  },
  {
   "cell_type": "markdown",
   "metadata": {},
   "source": [
    "<a id='portability'></a>"
   ]
  },
  {
   "cell_type": "markdown",
   "metadata": {},
   "source": [
    "## Portability"
   ]
  },
  {
   "cell_type": "markdown",
   "metadata": {},
   "source": [
    "This is all well and good. How does it interact with other packages out there, you might ask? It is as simple as you can imagine:"
   ]
  },
  {
   "cell_type": "code",
   "execution_count": 58,
   "metadata": {},
   "outputs": [],
   "source": [
    "from sklearn import svm\n",
    "clf = svm.SVC(gamma=0.001, C=100.)"
   ]
  },
  {
   "cell_type": "code",
   "execution_count": 59,
   "metadata": {},
   "outputs": [
    {
     "data": {
      "text/plain": [
       "SVC(C=100.0, cache_size=200, class_weight=None, coef0=0.0,\n",
       "  decision_function_shape='ovr', degree=3, gamma=0.001, kernel='rbf',\n",
       "  max_iter=-1, probability=False, random_state=None, shrinking=True,\n",
       "  tol=0.001, verbose=False)"
      ]
     },
     "execution_count": 59,
     "metadata": {},
     "output_type": "execute_result"
    }
   ],
   "source": [
    "data_matrix, target, sample_ids = binary_dataset.data_and_targets()\n",
    "clf.fit(data_matrix, target)"
   ]
  },
  {
   "cell_type": "markdown",
   "metadata": {},
   "source": [
    "There you have it, a simple example to show you the utility and convenience of this dataset."
   ]
  },
  {
   "cell_type": "markdown",
   "metadata": {},
   "source": [
    "### Thanks for checking it out. \n",
    "\n",
    "### I would appreciate if you could give me feedback on improving or sharpening it further."
   ]
  }
 ],
 "metadata": {
  "kernel_info": {
   "name": "py36"
  },
  "kernelspec": {
   "display_name": "py36",
   "language": "python",
   "name": "py36"
  },
  "language_info": {
   "codemirror_mode": {
    "name": "ipython",
    "version": 3
   },
   "file_extension": ".py",
   "mimetype": "text/x-python",
   "name": "python",
   "nbconvert_exporter": "python",
   "pygments_lexer": "ipython3",
   "version": "3.7.2"
  }
 },
 "nbformat": 4,
 "nbformat_minor": 1
}
